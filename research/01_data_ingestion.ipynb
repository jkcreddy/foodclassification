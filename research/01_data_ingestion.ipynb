{
 "cells": [
  {
   "cell_type": "code",
   "execution_count": 23,
   "metadata": {},
   "outputs": [],
   "source": [
    "import os"
   ]
  },
  {
   "cell_type": "code",
   "execution_count": 24,
   "metadata": {},
   "outputs": [
    {
     "data": {
      "text/plain": [
       "'/Users/kjaggav1/Library/CloudStorage/OneDrive-JCPenney/myworkspace/practice/foodclassification'"
      ]
     },
     "execution_count": 24,
     "metadata": {},
     "output_type": "execute_result"
    }
   ],
   "source": [
    "%pwd"
   ]
  },
  {
   "cell_type": "code",
   "execution_count": 25,
   "metadata": {},
   "outputs": [
    {
     "data": {
      "text/plain": [
       "'/Users/kjaggav1/Library/CloudStorage/OneDrive-JCPenney/myworkspace/practice/foodclassification'"
      ]
     },
     "execution_count": 25,
     "metadata": {},
     "output_type": "execute_result"
    }
   ],
   "source": [
    "#os.chdir(\"../\")\n",
    "%pwd"
   ]
  },
  {
   "cell_type": "code",
   "execution_count": 26,
   "metadata": {},
   "outputs": [],
   "source": [
    "from dataclasses import dataclass\n",
    "from pathlib import Path\n",
    "\n",
    "@dataclass(frozen=True)\n",
    "class DataIngestionConfig:\n",
    "    root_dir: Path\n",
    "    source_URL: str\n",
    "    object_key: Path\n",
    "    local_data_file: Path\n",
    "    unzip_dir: Path\n",
    "    bucket_name: str\n",
    "    access_key: str\n",
    "    secret_access_key: str\n",
    "    region: str"
   ]
  },
  {
   "cell_type": "code",
   "execution_count": 11,
   "metadata": {},
   "outputs": [],
   "source": [
    "\n",
    "from src.foodclassification.constants import *\n",
    "from src.foodclassification.utils.common import read_yaml, create_directories\n"
   ]
  },
  {
   "cell_type": "code",
   "execution_count": 12,
   "metadata": {},
   "outputs": [],
   "source": [
    "class ConfigurationManager:\n",
    "    def __init__(\n",
    "            self,\n",
    "            config_filepath = CONFIG_FILE_PATH,\n",
    "            params_filepath = PARAMS_FILE_PATH):\n",
    "        self.config = read_yaml(config_filepath)\n",
    "        self.params = read_yaml(params_filepath)\n",
    "\n",
    "        create_directories([self.config.artifacts_root])\n",
    "\n",
    "    def get_data_ingestion_config(self) -> DataIngestionConfig:\n",
    "        config = self.config.data_ingestion\n",
    "        cred = self.secret.aws_credentials\n",
    "        \n",
    "        create_directories([config.root_dir])\n",
    "\n",
    "        data_ingestion_config = DataIngestionConfig(\n",
    "            root_dir=config.root_dir,\n",
    "            source_URL=config.source_URL,\n",
    "            object_key=config.object_key,\n",
    "            local_data_file=config.local_data_file,\n",
    "            unzip_dir=config.unzip_dir,\n",
    "            bucket_name=config.bucket_name,\n",
    "            access_key=os.environ['AWS_ACCESS_KEY_ID'],\n",
    "            secret_access_key=os.environ['AWS_SECRET_ACCESS_KEY'],\n",
    "            region=os.environ['AWS_DEFAULT_REGION']\n",
    "        )\n",
    "\n",
    "        return data_ingestion_config"
   ]
  },
  {
   "cell_type": "code",
   "execution_count": 13,
   "metadata": {},
   "outputs": [],
   "source": [
    "import os\n",
    "import boto3\n",
    "import yaml\n",
    "import urllib.request as request\n",
    "from box.exceptions import BoxValueError\n",
    "import zipfile\n",
    "from src.foodclassification import logger\n",
    "from src.foodclassification.utils.common import get_size"
   ]
  },
  {
   "cell_type": "code",
   "execution_count": 14,
   "metadata": {},
   "outputs": [],
   "source": [
    "class DataIngestion:\n",
    "    def __init__(self, config: DataIngestionConfig):\n",
    "        self.config = config\n",
    "\n",
    "    def download_file(self):\n",
    "        if not os.path.exists(self.config.local_data_file):\n",
    "            s3 = boto3.client(\n",
    "                's3',\n",
    "                aws_access_key_id=self.config.access_key,\n",
    "                aws_secret_access_key=self.config.secret_access_key,\n",
    "                region_name=self.config.region)\n",
    "\n",
    "            bucket_name = self.config.bucket_name\n",
    "            s3_file_key = self.config.object_key\n",
    "            local_file_path = self.config.local_data_file\n",
    "\n",
    "            try:\n",
    "                s3.download_file(bucket_name, s3_file_key, local_file_path)\n",
    "                logger.info(f\"File '{s3_file_key}' downloaded to '{local_file_path}'.\")\n",
    "            except BoxValueError:\n",
    "                raise ValueError(\"unable to download file from s3\")\n",
    "        else:\n",
    "            logger.info(f\"file already present of size: {get_size(Path(self.config.local_data_file))}\")\n",
    "\n",
    "    def extract_zip_file(self):\n",
    "        unzip_path = self.config.unzip_dir\n",
    "        os.makedirs(unzip_path, exist_ok=True)\n",
    "        with zipfile.ZipFile(self.config.local_data_file, 'r') as zip_ref:\n",
    "            zip_ref.extractall(unzip_path)\n",
    "\n",
    "\n",
    "\n"
   ]
  },
  {
   "cell_type": "code",
   "execution_count": 31,
   "metadata": {},
   "outputs": [
    {
     "name": "stdout",
     "output_type": "stream",
     "text": [
      "[2024-09-06 13:13:30,181: INFO: common: yaml file: config/config.yaml loaded successfully]\n",
      "[2024-09-06 13:13:30,185: INFO: common: yaml file: params.yaml loaded successfully]\n",
      "[2024-09-06 13:13:30,186: INFO: common: yaml file: secrets/secrets.yaml loaded successfully]\n",
      "[2024-09-06 13:13:30,187: INFO: common: created directory at: artifacts]\n",
      "[2024-09-06 13:13:30,187: INFO: common: created directory at: artifacts/data_ingestion]\n",
      "[2024-09-06 13:13:30,187: INFO: 752630733: file already present of size: ~ 771248 KB]\n"
     ]
    }
   ],
   "source": [
    "try:\n",
    "    config = ConfigurationManager()\n",
    "    data_ingestion_config = config.get_data_ingestion_config()\n",
    "    data_ingestion = DataIngestion(config=data_ingestion_config)\n",
    "    data_ingestion.download_file()\n",
    "    data_ingestion.extract_zip_file()\n",
    "except BoxValueError:\n",
    "    raise ValueError(\"unable to download file from s3\")\n"
   ]
  }
 ],
 "metadata": {
  "kernelspec": {
   "display_name": "Python 3",
   "language": "python",
   "name": "python3"
  },
  "language_info": {
   "codemirror_mode": {
    "name": "ipython",
    "version": 3
   },
   "file_extension": ".py",
   "mimetype": "text/x-python",
   "name": "python",
   "nbconvert_exporter": "python",
   "pygments_lexer": "ipython3",
   "version": "3.12.4"
  }
 },
 "nbformat": 4,
 "nbformat_minor": 2
}
